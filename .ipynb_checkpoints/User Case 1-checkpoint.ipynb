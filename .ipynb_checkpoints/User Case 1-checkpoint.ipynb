{
 "cells": [
  {
   "cell_type": "markdown",
   "id": "da924a27",
   "metadata": {},
   "source": [
    "# Creating Game Board:"
   ]
  },
  {
   "cell_type": "code",
   "execution_count": 3,
   "id": "127428e2",
   "metadata": {},
   "outputs": [],
   "source": [
    "import pygame # Used to make games \n",
    "# and other multimedia applications.\n",
    "import random # Defines a series of \n",
    "# functions for generating random integers and figures.\n",
    "\n",
    "pygame.init() # After importing we need to initialize pygame. \n",
    "\n",
    "Screen = Width, Height = 300, 500 # These are the Dimensions of our game board. \n",
    "\n",
    "Window = pygame.display.set_caption('Tetris Game') \n",
    "# This is used to display the game name at the top. \n",
    "Window = pygame.display.set_mode(Screen) \n",
    "# We need to initialize a window where our game will display.\n",
    "                                         \n",
    "# This is used to introduce FPS to our game.\n",
    "clock= pygame.time.Clock()\n",
    "FPS = 30\n",
    "    \n",
    "\n",
    "# This code is used to make grids to our game board. It will show how many Rows and Cols are made in Game board. \n",
    "# There is no Direct way to obtain the Grids in python, So we initialize Small squares and now in loops we marked Vertical\n",
    "# and horizontal lines to show Grid Structures.\n",
    "CellSize = 20 \n",
    "Rows = (Height-120) // CellSize\n",
    "Cols = Width // CellSize\n",
    "#print(Rows, Cols) -> This will print 19 rows and 15 Columns.\n",
    "    \n",
    "# Introducing Colours to our screen:\n",
    "# These are called RGB colour combinations.\n",
    "#(All colours are formed by these combinations)\n",
    "Black = (21, 24, 29)\n",
    "Blue = (31, 25, 76)\n",
    "Red = (252, 91, 122)\n",
    "White = (255, 255, 255)\n",
    "\n",
    "# This Syntax is used to continue running of a screen.\n",
    "# This is used so that our game window will not disappear after any key pressing \n",
    "running= True\n",
    "while running: # what this while loop does, It will continuously appears our game window on screen. \n",
    "    \n",
    "    Window.fill(Black) # This will fill the colour to the game window \n",
    "    \n",
    "    for event in pygame.event.get(): \n",
    "        if event.type == pygame.QUIT:\n",
    "            running = False \n",
    "    for i in range(0, Rows+1):\n",
    "        pygame.draw.line(Window, White, (0, CellSize*i), (Width, CellSize*i))\n",
    "    for j in range(0, Cols+1):\n",
    "        pygame.draw.line(Window, White, (CellSize*j, 0), (CellSize*j, Height))\n",
    "    \n",
    "    \n",
    "    \n",
    "    pygame.draw.rect(Window, Blue, (0, Height- 120, Width, 120)) # This code will divide our game window into 2 separate halves \n",
    "                                                                 # i.e play window and information window.\n",
    "    pygame.draw.rect(Window, White, (0, 0, Width, Height-120), 2 )# This is used to make Border to two different halves.\n",
    "    pygame.draw.rect(Window, Red, (0, 0, Width, Height), 2 )# This is used to make Border to game board. \n",
    "    \n",
    "    clock.tick(FPS)\n",
    "    pygame.display.update() # This 'update' function updates the screen(Game window) everytime we change anything in code. \n",
    "    \n",
    "pygame.quit() # It will end the game"
   ]
  }
 ],
 "metadata": {
  "kernelspec": {
   "display_name": "Python 3 (ipykernel)",
   "language": "python",
   "name": "python3"
  },
  "language_info": {
   "codemirror_mode": {
    "name": "ipython",
    "version": 3
   },
   "file_extension": ".py",
   "mimetype": "text/x-python",
   "name": "python",
   "nbconvert_exporter": "python",
   "pygments_lexer": "ipython3",
   "version": "3.9.12"
  }
 },
 "nbformat": 4,
 "nbformat_minor": 5
}
